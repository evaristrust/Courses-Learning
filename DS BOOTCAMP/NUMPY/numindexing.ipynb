{
 "cells": [
  {
   "cell_type": "code",
   "execution_count": 1,
   "id": "26eb68b9",
   "metadata": {},
   "outputs": [],
   "source": [
    "import numpy as np  "
   ]
  },
  {
   "cell_type": "code",
   "execution_count": 2,
   "id": "cfc757a0",
   "metadata": {},
   "outputs": [],
   "source": [
    "arr = np.arange(0,20)"
   ]
  },
  {
   "cell_type": "code",
   "execution_count": 3,
   "id": "7dcef63c",
   "metadata": {},
   "outputs": [
    {
     "data": {
      "text/plain": [
       "array([ 0,  1,  2,  3,  4,  5,  6,  7,  8,  9, 10, 11, 12, 13, 14, 15, 16,\n",
       "       17, 18, 19])"
      ]
     },
     "execution_count": 3,
     "metadata": {},
     "output_type": "execute_result"
    }
   ],
   "source": [
    "arr"
   ]
  },
  {
   "cell_type": "code",
   "execution_count": 4,
   "id": "e5d149b2",
   "metadata": {},
   "outputs": [
    {
     "data": {
      "text/plain": [
       "6"
      ]
     },
     "execution_count": 4,
     "metadata": {},
     "output_type": "execute_result"
    }
   ],
   "source": [
    "arr[6]"
   ]
  },
  {
   "cell_type": "code",
   "execution_count": 5,
   "id": "29beed8b",
   "metadata": {},
   "outputs": [
    {
     "data": {
      "text/plain": [
       "array([ 6,  7,  8,  9, 10, 11])"
      ]
     },
     "execution_count": 5,
     "metadata": {},
     "output_type": "execute_result"
    }
   ],
   "source": [
    "arr[6:12] #grabbing data between index 6 to index 12(inclusive)"
   ]
  },
  {
   "cell_type": "code",
   "execution_count": 6,
   "id": "9ce4be1a",
   "metadata": {},
   "outputs": [
    {
     "data": {
      "text/plain": [
       "array([0, 1, 2, 3, 4, 5])"
      ]
     },
     "execution_count": 6,
     "metadata": {},
     "output_type": "execute_result"
    }
   ],
   "source": [
    "arr[:6] #from the beggining to the index 6"
   ]
  },
  {
   "cell_type": "code",
   "execution_count": 7,
   "id": "d9ce3176",
   "metadata": {},
   "outputs": [
    {
     "data": {
      "text/plain": [
       "array([ 6,  7,  8,  9, 10, 11, 12, 13, 14, 15, 16, 17, 18, 19])"
      ]
     },
     "execution_count": 7,
     "metadata": {},
     "output_type": "execute_result"
    }
   ],
   "source": [
    "arr[6:] #from index 6 exclusive to the end"
   ]
  },
  {
   "cell_type": "code",
   "execution_count": 8,
   "id": "80685bb0",
   "metadata": {},
   "outputs": [],
   "source": [
    "arr_slice = arr[12:18] #getting this slice "
   ]
  },
  {
   "cell_type": "code",
   "execution_count": 9,
   "id": "bfa730db",
   "metadata": {},
   "outputs": [
    {
     "data": {
      "text/plain": [
       "array([12, 13, 14, 15, 16, 17])"
      ]
     },
     "execution_count": 9,
     "metadata": {},
     "output_type": "execute_result"
    }
   ],
   "source": [
    "arr_slice"
   ]
  },
  {
   "cell_type": "code",
   "execution_count": 10,
   "id": "9b7801df",
   "metadata": {},
   "outputs": [],
   "source": [
    "arr_slice[:] = 100 # setting every value in this slice to another number"
   ]
  },
  {
   "cell_type": "code",
   "execution_count": 11,
   "id": "68b4acb4",
   "metadata": {},
   "outputs": [
    {
     "data": {
      "text/plain": [
       "array([100, 100, 100, 100, 100, 100])"
      ]
     },
     "execution_count": 11,
     "metadata": {},
     "output_type": "execute_result"
    }
   ],
   "source": [
    "arr_slice"
   ]
  },
  {
   "cell_type": "code",
   "execution_count": 13,
   "id": "609c5e0e",
   "metadata": {},
   "outputs": [
    {
     "data": {
      "text/plain": [
       "array([  0,   1,   2,   3,   4,   5,   6,   7,   8,   9,  10,  11, 100,\n",
       "       100, 100, 100, 100, 100,  18,  19])"
      ]
     },
     "execution_count": 13,
     "metadata": {},
     "output_type": "execute_result"
    }
   ],
   "source": [
    "arr"
   ]
  },
  {
   "cell_type": "code",
   "execution_count": 14,
   "id": "5bf1f885",
   "metadata": {},
   "outputs": [
    {
     "data": {
      "text/plain": [
       "array([100, 100, 100, 100, 100, 100])"
      ]
     },
     "execution_count": 14,
     "metadata": {},
     "output_type": "execute_result"
    }
   ],
   "source": [
    "arr_slice"
   ]
  },
  {
   "cell_type": "code",
   "execution_count": 15,
   "id": "e11084d9",
   "metadata": {},
   "outputs": [],
   "source": [
    "arr_slice[:] = [200, 300, 400, 500, 600, 700] # setting the slice into a new array"
   ]
  },
  {
   "cell_type": "code",
   "execution_count": 16,
   "id": "1df323ff",
   "metadata": {},
   "outputs": [
    {
     "data": {
      "text/plain": [
       "array([200, 300, 400, 500, 600, 700])"
      ]
     },
     "execution_count": 16,
     "metadata": {},
     "output_type": "execute_result"
    }
   ],
   "source": [
    "arr_slice"
   ]
  },
  {
   "cell_type": "code",
   "execution_count": 17,
   "id": "3df385e5",
   "metadata": {},
   "outputs": [
    {
     "data": {
      "text/plain": [
       "array([  0,   1,   2,   3,   4,   5,   6,   7,   8,   9,  10,  11, 200,\n",
       "       300, 400, 500, 600, 700,  18,  19])"
      ]
     },
     "execution_count": 17,
     "metadata": {},
     "output_type": "execute_result"
    }
   ],
   "source": [
    "arr #tHE ORIGINAL ARRAY HAS BEEN MODIFIED"
   ]
  },
  {
   "cell_type": "code",
   "execution_count": 18,
   "id": "16aeb187",
   "metadata": {},
   "outputs": [],
   "source": [
    "arr_copy = arr.copy() #getting the copy of an array "
   ]
  },
  {
   "cell_type": "code",
   "execution_count": 19,
   "id": "759647e6",
   "metadata": {},
   "outputs": [
    {
     "data": {
      "text/plain": [
       "array([  0,   1,   2,   3,   4,   5,   6,   7,   8,   9,  10,  11, 200,\n",
       "       300, 400, 500, 600, 700,  18,  19])"
      ]
     },
     "execution_count": 19,
     "metadata": {},
     "output_type": "execute_result"
    }
   ],
   "source": [
    "arr_copy"
   ]
  },
  {
   "cell_type": "code",
   "execution_count": 20,
   "id": "2a11f5bb",
   "metadata": {},
   "outputs": [],
   "source": [
    "arr_copy_slice = arr_copy[5: 13]"
   ]
  },
  {
   "cell_type": "code",
   "execution_count": 21,
   "id": "b391baf9",
   "metadata": {},
   "outputs": [
    {
     "data": {
      "text/plain": [
       "array([  5,   6,   7,   8,   9,  10,  11, 200])"
      ]
     },
     "execution_count": 21,
     "metadata": {},
     "output_type": "execute_result"
    }
   ],
   "source": [
    "arr_copy_slice"
   ]
  },
  {
   "cell_type": "code",
   "execution_count": 22,
   "id": "d2520912",
   "metadata": {},
   "outputs": [],
   "source": [
    "arr_copy_slice[:] = 101"
   ]
  },
  {
   "cell_type": "code",
   "execution_count": 23,
   "id": "febbed5a",
   "metadata": {},
   "outputs": [
    {
     "data": {
      "text/plain": [
       "array([101, 101, 101, 101, 101, 101, 101, 101])"
      ]
     },
     "execution_count": 23,
     "metadata": {},
     "output_type": "execute_result"
    }
   ],
   "source": [
    "arr_copy_slice"
   ]
  },
  {
   "cell_type": "code",
   "execution_count": 24,
   "id": "ffbc1022",
   "metadata": {},
   "outputs": [
    {
     "data": {
      "text/plain": [
       "array([  0,   1,   2,   3,   4, 101, 101, 101, 101, 101, 101, 101, 101,\n",
       "       300, 400, 500, 600, 700,  18,  19])"
      ]
     },
     "execution_count": 24,
     "metadata": {},
     "output_type": "execute_result"
    }
   ],
   "source": [
    "arr_copy"
   ]
  },
  {
   "cell_type": "code",
   "execution_count": 25,
   "id": "b50fed4a",
   "metadata": {},
   "outputs": [
    {
     "data": {
      "text/plain": [
       "array([  0,   1,   2,   3,   4,   5,   6,   7,   8,   9,  10,  11, 200,\n",
       "       300, 400, 500, 600, 700,  18,  19])"
      ]
     },
     "execution_count": 25,
     "metadata": {},
     "output_type": "execute_result"
    }
   ],
   "source": [
    "arr"
   ]
  },
  {
   "cell_type": "code",
   "execution_count": 26,
   "id": "bebde72d",
   "metadata": {},
   "outputs": [],
   "source": [
    "arr3 = np.arange(5,100)"
   ]
  },
  {
   "cell_type": "code",
   "execution_count": 34,
   "id": "980ed69c",
   "metadata": {},
   "outputs": [],
   "source": [
    "arr3_2d = arr3.reshape(19, 5)"
   ]
  },
  {
   "cell_type": "code",
   "execution_count": 35,
   "id": "5b63b42c",
   "metadata": {},
   "outputs": [
    {
     "data": {
      "text/plain": [
       "array([[ 5,  6,  7,  8,  9],\n",
       "       [10, 11, 12, 13, 14],\n",
       "       [15, 16, 17, 18, 19],\n",
       "       [20, 21, 22, 23, 24],\n",
       "       [25, 26, 27, 28, 29],\n",
       "       [30, 31, 32, 33, 34],\n",
       "       [35, 36, 37, 38, 39],\n",
       "       [40, 41, 42, 43, 44],\n",
       "       [45, 46, 47, 48, 49],\n",
       "       [50, 51, 52, 53, 54],\n",
       "       [55, 56, 57, 58, 59],\n",
       "       [60, 61, 62, 63, 64],\n",
       "       [65, 66, 67, 68, 69],\n",
       "       [70, 71, 72, 73, 74],\n",
       "       [75, 76, 77, 78, 79],\n",
       "       [80, 81, 82, 83, 84],\n",
       "       [85, 86, 87, 88, 89],\n",
       "       [90, 91, 92, 93, 94],\n",
       "       [95, 96, 97, 98, 99]])"
      ]
     },
     "execution_count": 35,
     "metadata": {},
     "output_type": "execute_result"
    }
   ],
   "source": [
    "arr3_2d"
   ]
  },
  {
   "cell_type": "code",
   "execution_count": 36,
   "id": "639f3de4",
   "metadata": {},
   "outputs": [
    {
     "data": {
      "text/plain": [
       "array([35, 36, 37, 38, 39])"
      ]
     },
     "execution_count": 36,
     "metadata": {},
     "output_type": "execute_result"
    }
   ],
   "source": [
    "arr3_2d[6] #grabbing row 6"
   ]
  },
  {
   "cell_type": "code",
   "execution_count": 37,
   "id": "c5da15c7",
   "metadata": {},
   "outputs": [
    {
     "data": {
      "text/plain": [
       "37"
      ]
     },
     "execution_count": 37,
     "metadata": {},
     "output_type": "execute_result"
    }
   ],
   "source": [
    "arr3_2d[6][2] #grabbing the elem on index 2 in the row 6"
   ]
  },
  {
   "cell_type": "code",
   "execution_count": 38,
   "id": "da3475f1",
   "metadata": {},
   "outputs": [
    {
     "data": {
      "text/plain": [
       "array([[ 6,  7,  8,  9],\n",
       "       [11, 12, 13, 14],\n",
       "       [16, 17, 18, 19],\n",
       "       [21, 22, 23, 24]])"
      ]
     },
     "execution_count": 38,
     "metadata": {},
     "output_type": "execute_result"
    }
   ],
   "source": [
    "arr3_2d[:4, 1:] #grabbing everything up to row 4 from col 1 onward"
   ]
  },
  {
   "cell_type": "code",
   "execution_count": 46,
   "id": "6b0935fb",
   "metadata": {},
   "outputs": [],
   "source": [
    "arr4 = np.arange(20)"
   ]
  },
  {
   "cell_type": "code",
   "execution_count": 47,
   "id": "d1287569",
   "metadata": {},
   "outputs": [
    {
     "data": {
      "text/plain": [
       "array([ 0,  1,  2,  3,  4,  5,  6,  7,  8,  9, 10, 11, 12, 13, 14, 15, 16,\n",
       "       17, 18, 19])"
      ]
     },
     "execution_count": 47,
     "metadata": {},
     "output_type": "execute_result"
    }
   ],
   "source": [
    "arr4"
   ]
  },
  {
   "cell_type": "code",
   "execution_count": 50,
   "id": "88081216",
   "metadata": {},
   "outputs": [],
   "source": [
    "arr4_bool = arr4 > 10"
   ]
  },
  {
   "cell_type": "code",
   "execution_count": 51,
   "id": "bd5b6cbc",
   "metadata": {},
   "outputs": [
    {
     "data": {
      "text/plain": [
       "array([False, False, False, False, False, False, False, False, False,\n",
       "       False, False,  True,  True,  True,  True,  True,  True,  True,\n",
       "        True,  True])"
      ]
     },
     "execution_count": 51,
     "metadata": {},
     "output_type": "execute_result"
    }
   ],
   "source": [
    "arr4_bool"
   ]
  },
  {
   "cell_type": "code",
   "execution_count": 52,
   "id": "a03cda86",
   "metadata": {},
   "outputs": [
    {
     "data": {
      "text/plain": [
       "array([11, 12, 13, 14, 15, 16, 17, 18, 19])"
      ]
     },
     "execution_count": 52,
     "metadata": {},
     "output_type": "execute_result"
    }
   ],
   "source": [
    "arr4[arr4_bool] #getting elements satisfying the condition"
   ]
  },
  {
   "cell_type": "code",
   "execution_count": 53,
   "id": "4aa409c0",
   "metadata": {},
   "outputs": [
    {
     "data": {
      "text/plain": [
       "array([16, 17, 18, 19])"
      ]
     },
     "execution_count": 53,
     "metadata": {},
     "output_type": "execute_result"
    }
   ],
   "source": [
    "arr4[arr4 > 15] #This is quick one and better in one line of code"
   ]
  },
  {
   "cell_type": "code",
   "execution_count": 57,
   "id": "4f8299a7",
   "metadata": {},
   "outputs": [],
   "source": [
    "arr5 = np.arange(50).reshape(5,10)"
   ]
  },
  {
   "cell_type": "code",
   "execution_count": 58,
   "id": "5de6ebef",
   "metadata": {},
   "outputs": [
    {
     "data": {
      "text/plain": [
       "array([[ 0,  1,  2,  3,  4,  5,  6,  7,  8,  9],\n",
       "       [10, 11, 12, 13, 14, 15, 16, 17, 18, 19],\n",
       "       [20, 21, 22, 23, 24, 25, 26, 27, 28, 29],\n",
       "       [30, 31, 32, 33, 34, 35, 36, 37, 38, 39],\n",
       "       [40, 41, 42, 43, 44, 45, 46, 47, 48, 49]])"
      ]
     },
     "execution_count": 58,
     "metadata": {},
     "output_type": "execute_result"
    }
   ],
   "source": [
    "arr5"
   ]
  },
  {
   "cell_type": "markdown",
   "id": "a0b637f8",
   "metadata": {},
   "source": [
    "am going to grab 13, 14, 15, 23, 24, 25, 33, 34, 35"
   ]
  },
  {
   "cell_type": "code",
   "execution_count": 59,
   "id": "16128989",
   "metadata": {},
   "outputs": [],
   "source": [
    "#meaning: get info from row 1 to row 3 ... starting col 3 to col 5"
   ]
  },
  {
   "cell_type": "code",
   "execution_count": 60,
   "id": "44bc2945",
   "metadata": {},
   "outputs": [
    {
     "data": {
      "text/plain": [
       "array([[13, 14, 15],\n",
       "       [23, 24, 25],\n",
       "       [33, 34, 35]])"
      ]
     },
     "execution_count": 60,
     "metadata": {},
     "output_type": "execute_result"
    }
   ],
   "source": [
    "arr5[1:4, 3: 6]"
   ]
  },
  {
   "cell_type": "code",
   "execution_count": null,
   "id": "9e69fc01",
   "metadata": {},
   "outputs": [],
   "source": []
  }
 ],
 "metadata": {
  "kernelspec": {
   "display_name": "Python 3",
   "language": "python",
   "name": "python3"
  },
  "language_info": {
   "codemirror_mode": {
    "name": "ipython",
    "version": 3
   },
   "file_extension": ".py",
   "mimetype": "text/x-python",
   "name": "python",
   "nbconvert_exporter": "python",
   "pygments_lexer": "ipython3",
   "version": "3.9.1"
  }
 },
 "nbformat": 4,
 "nbformat_minor": 5
}
