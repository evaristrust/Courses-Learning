{
 "cells": [
  {
   "cell_type": "code",
   "execution_count": 1,
   "id": "3189b44c",
   "metadata": {},
   "outputs": [],
   "source": [
    "import numpy as np  "
   ]
  },
  {
   "cell_type": "code",
   "execution_count": 2,
   "id": "4097d8da",
   "metadata": {},
   "outputs": [],
   "source": [
    "arr = np.arange(0,20)"
   ]
  },
  {
   "cell_type": "code",
   "execution_count": 3,
   "id": "040a35bd",
   "metadata": {},
   "outputs": [
    {
     "data": {
      "text/plain": [
       "array([ 0,  1,  2,  3,  4,  5,  6,  7,  8,  9, 10, 11, 12, 13, 14, 15, 16,\n",
       "       17, 18, 19])"
      ]
     },
     "execution_count": 3,
     "metadata": {},
     "output_type": "execute_result"
    }
   ],
   "source": [
    "arr"
   ]
  },
  {
   "cell_type": "code",
   "execution_count": 4,
   "id": "210bf075",
   "metadata": {},
   "outputs": [
    {
     "data": {
      "text/plain": [
       "6"
      ]
     },
     "execution_count": 4,
     "metadata": {},
     "output_type": "execute_result"
    }
   ],
   "source": [
    "arr[6]"
   ]
  },
  {
   "cell_type": "code",
   "execution_count": 5,
   "id": "d57fd639",
   "metadata": {},
   "outputs": [
    {
     "data": {
      "text/plain": [
       "array([ 6,  7,  8,  9, 10, 11])"
      ]
     },
     "execution_count": 5,
     "metadata": {},
     "output_type": "execute_result"
    }
   ],
   "source": [
    "arr[6:12] #grabbing data between index 6 to index 12(inclusive)"
   ]
  },
  {
   "cell_type": "code",
   "execution_count": 6,
   "id": "5b3fd77d",
   "metadata": {},
   "outputs": [
    {
     "data": {
      "text/plain": [
       "array([0, 1, 2, 3, 4, 5])"
      ]
     },
     "execution_count": 6,
     "metadata": {},
     "output_type": "execute_result"
    }
   ],
   "source": [
    "arr[:6] #from the beggining to the index 6"
   ]
  },
  {
   "cell_type": "code",
   "execution_count": 7,
   "id": "cfebaef3",
   "metadata": {},
   "outputs": [
    {
     "data": {
      "text/plain": [
       "array([ 6,  7,  8,  9, 10, 11, 12, 13, 14, 15, 16, 17, 18, 19])"
      ]
     },
     "execution_count": 7,
     "metadata": {},
     "output_type": "execute_result"
    }
   ],
   "source": [
    "arr[6:] #from index 6 exclusive to the end"
   ]
  },
  {
   "cell_type": "code",
   "execution_count": 8,
   "id": "39877066",
   "metadata": {},
   "outputs": [],
   "source": [
    "arr_slice = arr[12:18] #getting this slice "
   ]
  },
  {
   "cell_type": "code",
   "execution_count": 9,
   "id": "5c35b65e",
   "metadata": {},
   "outputs": [
    {
     "data": {
      "text/plain": [
       "array([12, 13, 14, 15, 16, 17])"
      ]
     },
     "execution_count": 9,
     "metadata": {},
     "output_type": "execute_result"
    }
   ],
   "source": [
    "arr_slice"
   ]
  },
  {
   "cell_type": "code",
   "execution_count": 10,
   "id": "9bddf730",
   "metadata": {},
   "outputs": [],
   "source": [
    "arr_slice[:] = 100 # setting every value in this slice to another number"
   ]
  },
  {
   "cell_type": "code",
   "execution_count": 11,
   "id": "cf179310",
   "metadata": {},
   "outputs": [
    {
     "data": {
      "text/plain": [
       "array([100, 100, 100, 100, 100, 100])"
      ]
     },
     "execution_count": 11,
     "metadata": {},
     "output_type": "execute_result"
    }
   ],
   "source": [
    "arr_slice"
   ]
  },
  {
   "cell_type": "code",
   "execution_count": 13,
   "id": "11319f44",
   "metadata": {},
   "outputs": [
    {
     "data": {
      "text/plain": [
       "array([  0,   1,   2,   3,   4,   5,   6,   7,   8,   9,  10,  11, 100,\n",
       "       100, 100, 100, 100, 100,  18,  19])"
      ]
     },
     "execution_count": 13,
     "metadata": {},
     "output_type": "execute_result"
    }
   ],
   "source": [
    "arr"
   ]
  },
  {
   "cell_type": "code",
   "execution_count": 14,
   "id": "74893846",
   "metadata": {},
   "outputs": [
    {
     "data": {
      "text/plain": [
       "array([100, 100, 100, 100, 100, 100])"
      ]
     },
     "execution_count": 14,
     "metadata": {},
     "output_type": "execute_result"
    }
   ],
   "source": [
    "arr_slice"
   ]
  },
  {
   "cell_type": "code",
   "execution_count": 15,
   "id": "c28396a2",
   "metadata": {},
   "outputs": [],
   "source": [
    "arr_slice[:] = [200, 300, 400, 500, 600, 700] # setting the slice into a new array"
   ]
  },
  {
   "cell_type": "code",
   "execution_count": 16,
   "id": "4d496233",
   "metadata": {},
   "outputs": [
    {
     "data": {
      "text/plain": [
       "array([200, 300, 400, 500, 600, 700])"
      ]
     },
     "execution_count": 16,
     "metadata": {},
     "output_type": "execute_result"
    }
   ],
   "source": [
    "arr_slice"
   ]
  },
  {
   "cell_type": "code",
   "execution_count": 17,
   "id": "a8751790",
   "metadata": {},
   "outputs": [
    {
     "data": {
      "text/plain": [
       "array([  0,   1,   2,   3,   4,   5,   6,   7,   8,   9,  10,  11, 200,\n",
       "       300, 400, 500, 600, 700,  18,  19])"
      ]
     },
     "execution_count": 17,
     "metadata": {},
     "output_type": "execute_result"
    }
   ],
   "source": [
    "arr #tHE ORIGINAL ARRAY HAS BEEN MODIFIED"
   ]
  },
  {
   "cell_type": "code",
   "execution_count": 18,
   "id": "7f25935e",
   "metadata": {},
   "outputs": [],
   "source": [
    "arr_copy = arr.copy() #getting the copy of an array "
   ]
  },
  {
   "cell_type": "code",
   "execution_count": 19,
   "id": "c3c8726f",
   "metadata": {},
   "outputs": [
    {
     "data": {
      "text/plain": [
       "array([  0,   1,   2,   3,   4,   5,   6,   7,   8,   9,  10,  11, 200,\n",
       "       300, 400, 500, 600, 700,  18,  19])"
      ]
     },
     "execution_count": 19,
     "metadata": {},
     "output_type": "execute_result"
    }
   ],
   "source": [
    "arr_copy"
   ]
  },
  {
   "cell_type": "code",
   "execution_count": 20,
   "id": "9e2e1390",
   "metadata": {},
   "outputs": [],
   "source": [
    "arr_copy_slice = arr_copy[5: 13]"
   ]
  },
  {
   "cell_type": "code",
   "execution_count": 21,
   "id": "f3f3cad5",
   "metadata": {},
   "outputs": [
    {
     "data": {
      "text/plain": [
       "array([  5,   6,   7,   8,   9,  10,  11, 200])"
      ]
     },
     "execution_count": 21,
     "metadata": {},
     "output_type": "execute_result"
    }
   ],
   "source": [
    "arr_copy_slice"
   ]
  },
  {
   "cell_type": "code",
   "execution_count": 22,
   "id": "1c52df85",
   "metadata": {},
   "outputs": [],
   "source": [
    "arr_copy_slice[:] = 101"
   ]
  },
  {
   "cell_type": "code",
   "execution_count": 23,
   "id": "a9103d16",
   "metadata": {},
   "outputs": [
    {
     "data": {
      "text/plain": [
       "array([101, 101, 101, 101, 101, 101, 101, 101])"
      ]
     },
     "execution_count": 23,
     "metadata": {},
     "output_type": "execute_result"
    }
   ],
   "source": [
    "arr_copy_slice"
   ]
  },
  {
   "cell_type": "code",
   "execution_count": 24,
   "id": "1652b7f1",
   "metadata": {},
   "outputs": [
    {
     "data": {
      "text/plain": [
       "array([  0,   1,   2,   3,   4, 101, 101, 101, 101, 101, 101, 101, 101,\n",
       "       300, 400, 500, 600, 700,  18,  19])"
      ]
     },
     "execution_count": 24,
     "metadata": {},
     "output_type": "execute_result"
    }
   ],
   "source": [
    "arr_copy"
   ]
  },
  {
   "cell_type": "code",
   "execution_count": 25,
   "id": "2f60e73f",
   "metadata": {},
   "outputs": [
    {
     "data": {
      "text/plain": [
       "array([  0,   1,   2,   3,   4,   5,   6,   7,   8,   9,  10,  11, 200,\n",
       "       300, 400, 500, 600, 700,  18,  19])"
      ]
     },
     "execution_count": 25,
     "metadata": {},
     "output_type": "execute_result"
    }
   ],
   "source": [
    "arr"
   ]
  },
  {
   "cell_type": "code",
   "execution_count": 26,
   "id": "a8f3d881",
   "metadata": {},
   "outputs": [],
   "source": [
    "arr3 = np.arange(5,100)"
   ]
  },
  {
   "cell_type": "code",
   "execution_count": 34,
   "id": "7100009f",
   "metadata": {},
   "outputs": [],
   "source": [
    "arr3_2d = arr3.reshape(19, 5)"
   ]
  },
  {
   "cell_type": "code",
   "execution_count": 35,
   "id": "a6fc7a01",
   "metadata": {},
   "outputs": [
    {
     "data": {
      "text/plain": [
       "array([[ 5,  6,  7,  8,  9],\n",
       "       [10, 11, 12, 13, 14],\n",
       "       [15, 16, 17, 18, 19],\n",
       "       [20, 21, 22, 23, 24],\n",
       "       [25, 26, 27, 28, 29],\n",
       "       [30, 31, 32, 33, 34],\n",
       "       [35, 36, 37, 38, 39],\n",
       "       [40, 41, 42, 43, 44],\n",
       "       [45, 46, 47, 48, 49],\n",
       "       [50, 51, 52, 53, 54],\n",
       "       [55, 56, 57, 58, 59],\n",
       "       [60, 61, 62, 63, 64],\n",
       "       [65, 66, 67, 68, 69],\n",
       "       [70, 71, 72, 73, 74],\n",
       "       [75, 76, 77, 78, 79],\n",
       "       [80, 81, 82, 83, 84],\n",
       "       [85, 86, 87, 88, 89],\n",
       "       [90, 91, 92, 93, 94],\n",
       "       [95, 96, 97, 98, 99]])"
      ]
     },
     "execution_count": 35,
     "metadata": {},
     "output_type": "execute_result"
    }
   ],
   "source": [
    "arr3_2d"
   ]
  },
  {
   "cell_type": "code",
   "execution_count": 36,
   "id": "0dd4cf9a",
   "metadata": {},
   "outputs": [
    {
     "data": {
      "text/plain": [
       "array([35, 36, 37, 38, 39])"
      ]
     },
     "execution_count": 36,
     "metadata": {},
     "output_type": "execute_result"
    }
   ],
   "source": [
    "arr3_2d[6] #grabbing row 6"
   ]
  },
  {
   "cell_type": "code",
   "execution_count": 37,
   "id": "dd211822",
   "metadata": {},
   "outputs": [
    {
     "data": {
      "text/plain": [
       "37"
      ]
     },
     "execution_count": 37,
     "metadata": {},
     "output_type": "execute_result"
    }
   ],
   "source": [
    "arr3_2d[6][2] #grabbing the elem on index 2 in the row 6"
   ]
  },
  {
   "cell_type": "code",
   "execution_count": 38,
   "id": "8258555e",
   "metadata": {},
   "outputs": [
    {
     "data": {
      "text/plain": [
       "array([[ 6,  7,  8,  9],\n",
       "       [11, 12, 13, 14],\n",
       "       [16, 17, 18, 19],\n",
       "       [21, 22, 23, 24]])"
      ]
     },
     "execution_count": 38,
     "metadata": {},
     "output_type": "execute_result"
    }
   ],
   "source": [
    "arr3_2d[:4, 1:] #grabbing everything up to row 4 from col 1 onward"
   ]
  },
  {
   "cell_type": "code",
   "execution_count": 46,
   "id": "4913a6d3",
   "metadata": {},
   "outputs": [],
   "source": [
    "arr4 = np.arange(20)"
   ]
  },
  {
   "cell_type": "code",
   "execution_count": 47,
   "id": "fd7f1d81",
   "metadata": {},
   "outputs": [
    {
     "data": {
      "text/plain": [
       "array([ 0,  1,  2,  3,  4,  5,  6,  7,  8,  9, 10, 11, 12, 13, 14, 15, 16,\n",
       "       17, 18, 19])"
      ]
     },
     "execution_count": 47,
     "metadata": {},
     "output_type": "execute_result"
    }
   ],
   "source": [
    "arr4"
   ]
  },
  {
   "cell_type": "code",
   "execution_count": 50,
   "id": "e9eccdc5",
   "metadata": {},
   "outputs": [],
   "source": [
    "arr4_bool = arr4 > 10"
   ]
  },
  {
   "cell_type": "code",
   "execution_count": 51,
   "id": "d4f6ce80",
   "metadata": {},
   "outputs": [
    {
     "data": {
      "text/plain": [
       "array([False, False, False, False, False, False, False, False, False,\n",
       "       False, False,  True,  True,  True,  True,  True,  True,  True,\n",
       "        True,  True])"
      ]
     },
     "execution_count": 51,
     "metadata": {},
     "output_type": "execute_result"
    }
   ],
   "source": [
    "arr4_bool"
   ]
  },
  {
   "cell_type": "code",
   "execution_count": null,
   "id": "1443167f",
   "metadata": {},
   "outputs": [],
   "source": []
  }
 ],
 "metadata": {
  "kernelspec": {
   "display_name": "Python 3",
   "language": "python",
   "name": "python3"
  },
  "language_info": {
   "codemirror_mode": {
    "name": "ipython",
    "version": 3
   },
   "file_extension": ".py",
   "mimetype": "text/x-python",
   "name": "python",
   "nbconvert_exporter": "python",
   "pygments_lexer": "ipython3",
   "version": "3.9.1"
  }
 },
 "nbformat": 4,
 "nbformat_minor": 5
}
