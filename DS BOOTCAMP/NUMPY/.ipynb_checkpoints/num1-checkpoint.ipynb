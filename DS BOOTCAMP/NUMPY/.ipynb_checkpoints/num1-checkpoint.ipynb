{
 "cells": [
  {
   "cell_type": "code",
   "execution_count": 7,
   "id": "5c110ad2",
   "metadata": {},
   "outputs": [],
   "source": [
    "my_list = [1, 2, 4]"
   ]
  },
  {
   "cell_type": "code",
   "execution_count": 8,
   "id": "aa671cc8",
   "metadata": {},
   "outputs": [],
   "source": [
    "import numpy as np"
   ]
  },
  {
   "cell_type": "code",
   "execution_count": 9,
   "id": "0a0f4980",
   "metadata": {},
   "outputs": [],
   "source": [
    "arr = np.array(my_list)#convert a normal py list into an array (1 dimensional)"
   ]
  },
  {
   "cell_type": "code",
   "execution_count": 10,
   "id": "bfe15199",
   "metadata": {},
   "outputs": [
    {
     "data": {
      "text/plain": [
       "array([1, 2, 4])"
      ]
     },
     "execution_count": 10,
     "metadata": {},
     "output_type": "execute_result"
    }
   ],
   "source": [
    "arr"
   ]
  },
  {
   "cell_type": "code",
   "execution_count": 11,
   "id": "141952bf",
   "metadata": {},
   "outputs": [],
   "source": [
    "my_2d_list = [[23, 13, 13], [12, 11, 32], [44, 23, 12]]"
   ]
  },
  {
   "cell_type": "code",
   "execution_count": 12,
   "id": "bf30cccb",
   "metadata": {},
   "outputs": [],
   "source": [
    "arr_2d = np.array(my_2d_list)"
   ]
  },
  {
   "cell_type": "code",
   "execution_count": 13,
   "id": "202dc707",
   "metadata": {},
   "outputs": [
    {
     "data": {
      "text/plain": [
       "array([[23, 13, 13],\n",
       "       [12, 11, 32],\n",
       "       [44, 23, 12]])"
      ]
     },
     "execution_count": 13,
     "metadata": {},
     "output_type": "execute_result"
    }
   ],
   "source": [
    "arr_2d"
   ]
  },
  {
   "cell_type": "markdown",
   "id": "8840b8d3",
   "metadata": {},
   "source": [
    "learn linspace "
   ]
  },
  {
   "cell_type": "code",
   "execution_count": 14,
   "id": "60f66b63",
   "metadata": {},
   "outputs": [],
   "source": [
    "line_1d = np.linspace(0, 6, 100) #don't be fooled, it's just 1d not 2d haha"
   ]
  },
  {
   "cell_type": "code",
   "execution_count": 15,
   "id": "9ae26b1e",
   "metadata": {},
   "outputs": [
    {
     "data": {
      "text/plain": [
       "array([0.        , 0.06060606, 0.12121212, 0.18181818, 0.24242424,\n",
       "       0.3030303 , 0.36363636, 0.42424242, 0.48484848, 0.54545455,\n",
       "       0.60606061, 0.66666667, 0.72727273, 0.78787879, 0.84848485,\n",
       "       0.90909091, 0.96969697, 1.03030303, 1.09090909, 1.15151515,\n",
       "       1.21212121, 1.27272727, 1.33333333, 1.39393939, 1.45454545,\n",
       "       1.51515152, 1.57575758, 1.63636364, 1.6969697 , 1.75757576,\n",
       "       1.81818182, 1.87878788, 1.93939394, 2.        , 2.06060606,\n",
       "       2.12121212, 2.18181818, 2.24242424, 2.3030303 , 2.36363636,\n",
       "       2.42424242, 2.48484848, 2.54545455, 2.60606061, 2.66666667,\n",
       "       2.72727273, 2.78787879, 2.84848485, 2.90909091, 2.96969697,\n",
       "       3.03030303, 3.09090909, 3.15151515, 3.21212121, 3.27272727,\n",
       "       3.33333333, 3.39393939, 3.45454545, 3.51515152, 3.57575758,\n",
       "       3.63636364, 3.6969697 , 3.75757576, 3.81818182, 3.87878788,\n",
       "       3.93939394, 4.        , 4.06060606, 4.12121212, 4.18181818,\n",
       "       4.24242424, 4.3030303 , 4.36363636, 4.42424242, 4.48484848,\n",
       "       4.54545455, 4.60606061, 4.66666667, 4.72727273, 4.78787879,\n",
       "       4.84848485, 4.90909091, 4.96969697, 5.03030303, 5.09090909,\n",
       "       5.15151515, 5.21212121, 5.27272727, 5.33333333, 5.39393939,\n",
       "       5.45454545, 5.51515152, 5.57575758, 5.63636364, 5.6969697 ,\n",
       "       5.75757576, 5.81818182, 5.87878788, 5.93939394, 6.        ])"
      ]
     },
     "execution_count": 15,
     "metadata": {},
     "output_type": "execute_result"
    }
   ],
   "source": [
    "line_1d"
   ]
  },
  {
   "cell_type": "markdown",
   "id": "f6e1aed9",
   "metadata": {},
   "source": [
    "learn random uniform distribution and standard normal distribution and randint"
   ]
  },
  {
   "cell_type": "code",
   "execution_count": 16,
   "id": "fe2c35a8",
   "metadata": {},
   "outputs": [
    {
     "data": {
      "text/plain": [
       "array([0.68102696, 0.56868382, 0.70066889, 0.05304819, 0.41492058])"
      ]
     },
     "execution_count": 16,
     "metadata": {},
     "output_type": "execute_result"
    }
   ],
   "source": [
    "np.random.rand(5)#uniform"
   ]
  },
  {
   "cell_type": "code",
   "execution_count": 17,
   "id": "1fd40f3c",
   "metadata": {},
   "outputs": [
    {
     "data": {
      "text/plain": [
       "array([-0.01872538, -1.00643741,  0.34756841,  0.96189191, -0.10953549])"
      ]
     },
     "execution_count": 17,
     "metadata": {},
     "output_type": "execute_result"
    }
   ],
   "source": [
    "np.random.randn(5) #standard normal"
   ]
  },
  {
   "cell_type": "code",
   "execution_count": 18,
   "id": "20edff89",
   "metadata": {},
   "outputs": [
    {
     "data": {
      "text/plain": [
       "array([[-0.38473437,  0.41997207, -1.29025381, -1.84863806],\n",
       "       [ 0.45414991,  0.58560761,  0.03500416, -1.26227563],\n",
       "       [ 0.03916519, -1.65929694, -0.42205058,  1.18272509],\n",
       "       [ 0.92721953,  0.69315902, -0.52908069, -0.18032075]])"
      ]
     },
     "execution_count": 18,
     "metadata": {},
     "output_type": "execute_result"
    }
   ],
   "source": [
    "np.random.randn(4,4)#normal standard"
   ]
  },
  {
   "cell_type": "code",
   "execution_count": 19,
   "id": "056bbe5d",
   "metadata": {},
   "outputs": [
    {
     "data": {
      "text/plain": [
       "array([[0.47283801, 0.49739836, 0.13398633, 0.6428817 ],\n",
       "       [0.85938586, 0.94713809, 0.88564107, 0.65831882],\n",
       "       [0.74018751, 0.28177925, 0.94802561, 0.91126766],\n",
       "       [0.23849038, 0.61534617, 0.85354702, 0.06495799]])"
      ]
     },
     "execution_count": 19,
     "metadata": {},
     "output_type": "execute_result"
    }
   ],
   "source": [
    "np.random.rand(4,4)#uniform "
   ]
  },
  {
   "cell_type": "code",
   "execution_count": 20,
   "id": "1edf0aff",
   "metadata": {},
   "outputs": [
    {
     "data": {
      "text/plain": [
       "4"
      ]
     },
     "execution_count": 20,
     "metadata": {},
     "output_type": "execute_result"
    }
   ],
   "source": [
    "np.random.randint(10)"
   ]
  },
  {
   "cell_type": "code",
   "execution_count": 21,
   "id": "db28535b",
   "metadata": {},
   "outputs": [
    {
     "data": {
      "text/plain": [
       "44"
      ]
     },
     "execution_count": 21,
     "metadata": {},
     "output_type": "execute_result"
    }
   ],
   "source": [
    "np.random.randint(0, 100)"
   ]
  },
  {
   "cell_type": "code",
   "execution_count": 22,
   "id": "18e829b1",
   "metadata": {},
   "outputs": [],
   "source": [
    "arr_2 = np.random.randint(0, 100, 20)"
   ]
  },
  {
   "cell_type": "code",
   "execution_count": 23,
   "id": "be1c76f1",
   "metadata": {},
   "outputs": [
    {
     "data": {
      "text/plain": [
       "array([65, 51, 57, 27, 91, 89, 98, 63, 13, 29, 61, 43,  2, 12, 48, 44, 51,\n",
       "       79,  3, 20])"
      ]
     },
     "execution_count": 23,
     "metadata": {},
     "output_type": "execute_result"
    }
   ],
   "source": [
    "arr_2"
   ]
  },
  {
   "cell_type": "code",
   "execution_count": 24,
   "id": "3bf869ae",
   "metadata": {},
   "outputs": [
    {
     "data": {
      "text/plain": [
       "array([[65, 51, 57, 27],\n",
       "       [91, 89, 98, 63],\n",
       "       [13, 29, 61, 43],\n",
       "       [ 2, 12, 48, 44],\n",
       "       [51, 79,  3, 20]])"
      ]
     },
     "execution_count": 24,
     "metadata": {},
     "output_type": "execute_result"
    }
   ],
   "source": [
    "arr_2.reshape(5,4)"
   ]
  },
  {
   "cell_type": "code",
   "execution_count": 25,
   "id": "084c5194",
   "metadata": {},
   "outputs": [
    {
     "data": {
      "text/plain": [
       "98"
      ]
     },
     "execution_count": 25,
     "metadata": {},
     "output_type": "execute_result"
    }
   ],
   "source": [
    "arr_2.max()"
   ]
  },
  {
   "cell_type": "code",
   "execution_count": 26,
   "id": "3523fe35",
   "metadata": {},
   "outputs": [
    {
     "data": {
      "text/plain": [
       "2"
      ]
     },
     "execution_count": 26,
     "metadata": {},
     "output_type": "execute_result"
    }
   ],
   "source": [
    "arr_2.min()"
   ]
  },
  {
   "cell_type": "code",
   "execution_count": 27,
   "id": "f7f01ff5",
   "metadata": {},
   "outputs": [
    {
     "data": {
      "text/plain": [
       "6"
      ]
     },
     "execution_count": 27,
     "metadata": {},
     "output_type": "execute_result"
    }
   ],
   "source": [
    "arr_2.argmax()"
   ]
  },
  {
   "cell_type": "code",
   "execution_count": 28,
   "id": "79a9f24f",
   "metadata": {},
   "outputs": [
    {
     "data": {
      "text/plain": [
       "12"
      ]
     },
     "execution_count": 28,
     "metadata": {},
     "output_type": "execute_result"
    }
   ],
   "source": [
    " arr_2.argmin()"
   ]
  },
  {
   "cell_type": "code",
   "execution_count": 29,
   "id": "8a068bc4",
   "metadata": {},
   "outputs": [],
   "source": [
    "from numpy.random import randint"
   ]
  },
  {
   "cell_type": "code",
   "execution_count": 30,
   "id": "a120824d",
   "metadata": {},
   "outputs": [
    {
     "data": {
      "text/plain": [
       "2"
      ]
     },
     "execution_count": 30,
     "metadata": {},
     "output_type": "execute_result"
    }
   ],
   "source": [
    "randint(10)"
   ]
  },
  {
   "cell_type": "code",
   "execution_count": null,
   "id": "8631ba54",
   "metadata": {},
   "outputs": [],
   "source": []
  }
 ],
 "metadata": {
  "kernelspec": {
   "display_name": "Python 3",
   "language": "python",
   "name": "python3"
  },
  "language_info": {
   "codemirror_mode": {
    "name": "ipython",
    "version": 3
   },
   "file_extension": ".py",
   "mimetype": "text/x-python",
   "name": "python",
   "nbconvert_exporter": "python",
   "pygments_lexer": "ipython3",
   "version": "3.9.1"
  }
 },
 "nbformat": 4,
 "nbformat_minor": 5
}
