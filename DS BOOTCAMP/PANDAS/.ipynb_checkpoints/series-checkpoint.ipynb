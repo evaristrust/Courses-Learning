{
 "cells": [
  {
   "cell_type": "code",
   "execution_count": 1,
   "id": "499b9abf",
   "metadata": {},
   "outputs": [],
   "source": [
    "import numpy as np"
   ]
  },
  {
   "cell_type": "code",
   "execution_count": 20,
   "id": "324e4005",
   "metadata": {},
   "outputs": [],
   "source": [
    "import pandas as pd"
   ]
  },
  {
   "cell_type": "code",
   "execution_count": 21,
   "id": "1c4dbae2",
   "metadata": {},
   "outputs": [],
   "source": [
    "#show how series work\n",
    "\n",
    "labels = ['a', 'b', 'c']\n",
    "my_data = [20, 50, 80]\n",
    "my_dict = {'a': 20, 'b': 50, 'c': 80}"
   ]
  },
  {
   "cell_type": "code",
   "execution_count": 22,
   "id": "eee1fc29",
   "metadata": {},
   "outputs": [
    {
     "data": {
      "text/plain": [
       "['a', 'b', 'c']"
      ]
     },
     "execution_count": 22,
     "metadata": {},
     "output_type": "execute_result"
    }
   ],
   "source": [
    "labels"
   ]
  },
  {
   "cell_type": "code",
   "execution_count": 23,
   "id": "e3bb1ddb",
   "metadata": {},
   "outputs": [
    {
     "data": {
      "text/plain": [
       "[20, 50, 80]"
      ]
     },
     "execution_count": 23,
     "metadata": {},
     "output_type": "execute_result"
    }
   ],
   "source": [
    "my_data"
   ]
  },
  {
   "cell_type": "code",
   "execution_count": 24,
   "id": "05c13b75",
   "metadata": {},
   "outputs": [
    {
     "data": {
      "text/plain": [
       "{'a': 20, 'b': 50, 'c': 80}"
      ]
     },
     "execution_count": 24,
     "metadata": {},
     "output_type": "execute_result"
    }
   ],
   "source": [
    "my_dict"
   ]
  },
  {
   "cell_type": "code",
   "execution_count": 25,
   "id": "aba24fca",
   "metadata": {},
   "outputs": [],
   "source": [
    "my_series = pd.Series(data=my_data)"
   ]
  },
  {
   "cell_type": "code",
   "execution_count": 26,
   "id": "5d931779",
   "metadata": {},
   "outputs": [
    {
     "data": {
      "text/plain": [
       "0    20\n",
       "1    50\n",
       "2    80\n",
       "dtype: int64"
      ]
     },
     "execution_count": 26,
     "metadata": {},
     "output_type": "execute_result"
    }
   ],
   "source": [
    "my_series"
   ]
  },
  {
   "cell_type": "code",
   "execution_count": 27,
   "id": "5a3e5603",
   "metadata": {},
   "outputs": [],
   "source": [
    "#change the indexes to labels "
   ]
  },
  {
   "cell_type": "code",
   "execution_count": 28,
   "id": "91fad090",
   "metadata": {},
   "outputs": [],
   "source": [
    "my_series1 = pd.Series(data=my_data, index=labels)"
   ]
  },
  {
   "cell_type": "code",
   "execution_count": 29,
   "id": "d25a5ac3",
   "metadata": {},
   "outputs": [
    {
     "data": {
      "text/plain": [
       "a    20\n",
       "b    50\n",
       "c    80\n",
       "dtype: int64"
      ]
     },
     "execution_count": 29,
     "metadata": {},
     "output_type": "execute_result"
    }
   ],
   "source": [
    "my_series1"
   ]
  },
  {
   "cell_type": "code",
   "execution_count": 30,
   "id": "67960ac7",
   "metadata": {},
   "outputs": [],
   "source": [
    "#same as "
   ]
  },
  {
   "cell_type": "code",
   "execution_count": 31,
   "id": "41894df6",
   "metadata": {},
   "outputs": [
    {
     "data": {
      "text/plain": [
       "a    20\n",
       "b    50\n",
       "c    80\n",
       "dtype: int64"
      ]
     },
     "execution_count": 31,
     "metadata": {},
     "output_type": "execute_result"
    }
   ],
   "source": [
    "pd.Series(my_data, labels)"
   ]
  },
  {
   "cell_type": "code",
   "execution_count": 32,
   "id": "de19c4e0",
   "metadata": {},
   "outputs": [],
   "source": [
    "#how about pursing my_dict in the Series"
   ]
  },
  {
   "cell_type": "code",
   "execution_count": 33,
   "id": "6c36db12",
   "metadata": {},
   "outputs": [
    {
     "data": {
      "text/plain": [
       "a    20\n",
       "b    50\n",
       "c    80\n",
       "dtype: int64"
      ]
     },
     "execution_count": 33,
     "metadata": {},
     "output_type": "execute_result"
    }
   ],
   "source": [
    "pd.Series(my_dict)"
   ]
  },
  {
   "cell_type": "code",
   "execution_count": 34,
   "id": "56be72cc",
   "metadata": {},
   "outputs": [],
   "source": [
    "#Pay attention to the build_in functions"
   ]
  },
  {
   "cell_type": "code",
   "execution_count": 35,
   "id": "8aac24b7",
   "metadata": {},
   "outputs": [
    {
     "data": {
      "text/plain": [
       "0      <built-in function sum>\n",
       "1    <built-in function print>\n",
       "2      <built-in function len>\n",
       "3      <built-in function max>\n",
       "dtype: object"
      ]
     },
     "execution_count": 35,
     "metadata": {},
     "output_type": "execute_result"
    }
   ],
   "source": [
    "pd.Series(data=[sum, print, len, max])"
   ]
  },
  {
   "cell_type": "code",
   "execution_count": 36,
   "id": "fb497729",
   "metadata": {},
   "outputs": [],
   "source": [
    "serie1 = pd.Series([1, 2, 3, 4], ['Rwanda', 'USA', 'Ethiopia', 'Germany'])"
   ]
  },
  {
   "cell_type": "code",
   "execution_count": 37,
   "id": "28288001",
   "metadata": {},
   "outputs": [
    {
     "data": {
      "text/plain": [
       "Rwanda      1\n",
       "USA         2\n",
       "Ethiopia    3\n",
       "Germany     4\n",
       "dtype: int64"
      ]
     },
     "execution_count": 37,
     "metadata": {},
     "output_type": "execute_result"
    }
   ],
   "source": [
    "serie1"
   ]
  },
  {
   "cell_type": "code",
   "execution_count": 38,
   "id": "ccd76e99",
   "metadata": {},
   "outputs": [],
   "source": [
    " from numpy.random import randn"
   ]
  },
  {
   "cell_type": "code",
   "execution_count": 39,
   "id": "1f4bf272",
   "metadata": {},
   "outputs": [],
   "source": [
    "serie2 = pd.DataFrame(randn(5,4), ['A', 'B', 'C', 'D', 'E'], ['W', 'Y', 'Z', 'X'])"
   ]
  },
  {
   "cell_type": "code",
   "execution_count": 40,
   "id": "8da8cef8",
   "metadata": {},
   "outputs": [
    {
     "data": {
      "text/html": [
       "<div>\n",
       "<style scoped>\n",
       "    .dataframe tbody tr th:only-of-type {\n",
       "        vertical-align: middle;\n",
       "    }\n",
       "\n",
       "    .dataframe tbody tr th {\n",
       "        vertical-align: top;\n",
       "    }\n",
       "\n",
       "    .dataframe thead th {\n",
       "        text-align: right;\n",
       "    }\n",
       "</style>\n",
       "<table border=\"1\" class=\"dataframe\">\n",
       "  <thead>\n",
       "    <tr style=\"text-align: right;\">\n",
       "      <th></th>\n",
       "      <th>W</th>\n",
       "      <th>Y</th>\n",
       "      <th>Z</th>\n",
       "      <th>X</th>\n",
       "    </tr>\n",
       "  </thead>\n",
       "  <tbody>\n",
       "    <tr>\n",
       "      <th>A</th>\n",
       "      <td>1.981845</td>\n",
       "      <td>0.499575</td>\n",
       "      <td>-0.376579</td>\n",
       "      <td>-1.330507</td>\n",
       "    </tr>\n",
       "    <tr>\n",
       "      <th>B</th>\n",
       "      <td>0.212229</td>\n",
       "      <td>-1.150172</td>\n",
       "      <td>1.580511</td>\n",
       "      <td>-0.871731</td>\n",
       "    </tr>\n",
       "    <tr>\n",
       "      <th>C</th>\n",
       "      <td>-1.128876</td>\n",
       "      <td>1.050112</td>\n",
       "      <td>-0.890424</td>\n",
       "      <td>0.264157</td>\n",
       "    </tr>\n",
       "    <tr>\n",
       "      <th>D</th>\n",
       "      <td>-0.115083</td>\n",
       "      <td>1.094901</td>\n",
       "      <td>0.091466</td>\n",
       "      <td>1.631595</td>\n",
       "    </tr>\n",
       "    <tr>\n",
       "      <th>E</th>\n",
       "      <td>0.100706</td>\n",
       "      <td>-1.173054</td>\n",
       "      <td>-0.022412</td>\n",
       "      <td>-0.658979</td>\n",
       "    </tr>\n",
       "  </tbody>\n",
       "</table>\n",
       "</div>"
      ],
      "text/plain": [
       "          W         Y         Z         X\n",
       "A  1.981845  0.499575 -0.376579 -1.330507\n",
       "B  0.212229 -1.150172  1.580511 -0.871731\n",
       "C -1.128876  1.050112 -0.890424  0.264157\n",
       "D -0.115083  1.094901  0.091466  1.631595\n",
       "E  0.100706 -1.173054 -0.022412 -0.658979"
      ]
     },
     "execution_count": 40,
     "metadata": {},
     "output_type": "execute_result"
    }
   ],
   "source": [
    "serie2"
   ]
  },
  {
   "cell_type": "code",
   "execution_count": null,
   "id": "1cb76f15",
   "metadata": {},
   "outputs": [],
   "source": []
  },
  {
   "cell_type": "code",
   "execution_count": null,
   "id": "ba2d8b53",
   "metadata": {},
   "outputs": [],
   "source": []
  },
  {
   "cell_type": "code",
   "execution_count": null,
   "id": "65c3b960",
   "metadata": {},
   "outputs": [],
   "source": []
  }
 ],
 "metadata": {
  "kernelspec": {
   "display_name": "Python 3",
   "language": "python",
   "name": "python3"
  },
  "language_info": {
   "codemirror_mode": {
    "name": "ipython",
    "version": 3
   },
   "file_extension": ".py",
   "mimetype": "text/x-python",
   "name": "python",
   "nbconvert_exporter": "python",
   "pygments_lexer": "ipython3",
   "version": "3.9.1"
  }
 },
 "nbformat": 4,
 "nbformat_minor": 5
}
